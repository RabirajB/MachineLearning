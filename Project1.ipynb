{
 "cells": [
  {
   "cell_type": "code",
   "execution_count": 1,
   "metadata": {},
   "outputs": [],
   "source": [
    "import numpy as np\n",
    "import pandas as pd\n",
    "import matplotlib.pyplot as plt"
   ]
  },
  {
   "cell_type": "code",
   "execution_count": 2,
   "metadata": {},
   "outputs": [],
   "source": [
    "data = pd.read_csv('D:/MachineLearning/wdbc.dataset.csv', header = None) # The path of the file is subjectto change\n",
    "data = data.reindex(np.random.permutation(data.index))\n",
    "#print(data)\n",
    "x = data.iloc[:,2:len(data.columns)]\n",
    "#print(x.mean())\n",
    "\n",
    "x = ((x - x.mean())/(x.std())).to_numpy()\n",
    "#print(type(x))\n",
    "np.set_printoptions(suppress='True')\n",
    "#print(x, \"\", x.shape) "
   ]
  },
  {
   "cell_type": "code",
   "execution_count": 3,
   "metadata": {},
   "outputs": [],
   "source": [
    "addones = np.ones(len(x))\n",
    "addones = addones.reshape(len(addones),1)"
   ]
  },
  {
   "cell_type": "code",
   "execution_count": 4,
   "metadata": {},
   "outputs": [],
   "source": [
    "x = np.append(x,addones, axis = 1)\n",
    "x[:,[0,x.shape[1]-1]] = x[:,[x.shape[1]-1,0]]\n",
    "#print(x)\n",
    "training_x = x[0:int(0.8*x.shape[0]),:]\n"
   ]
  },
  {
   "cell_type": "code",
   "execution_count": 5,
   "metadata": {},
   "outputs": [],
   "source": [
    "data = data.values\n",
    "y = np.array(data[:,1])\n",
    "#print(np.sum(y)/y.shape[0])\n",
    "for i in range(len(y)):\n",
    "    if y[i] == 'M':\n",
    "       y[i] = 1\n",
    "    elif y[i] == 'B':\n",
    "       y[i] = 0"
   ]
  },
  {
   "cell_type": "code",
   "execution_count": 6,
   "metadata": {},
   "outputs": [],
   "source": [
    "#np.sum(y)/y.shape[0] # Testing the percentage of positive test cases"
   ]
  },
  {
   "cell_type": "code",
   "execution_count": 7,
   "metadata": {},
   "outputs": [],
   "source": [
    "training_y = y[0:int(0.8*y.shape[0])]\n",
    "training_y = training_y.reshape(1,len(training_y))\n",
    "#print(training_y.shape)\n",
    "#print(training_y)"
   ]
  },
  {
   "cell_type": "code",
   "execution_count": 8,
   "metadata": {},
   "outputs": [],
   "source": [
    "# Extracting the rest of the data\n",
    "rem_x = x[int(0.8*x.shape[0])+1:x.shape[0],:] \n",
    "#print(rem_x.shape)\n",
    "rem_y = y[int(0.8*y.shape[0])+1:y.shape[0]] \n",
    "#rem_y = test_y.reshape(1,len(test_y))\n",
    "#print(rem_y.shape)\n",
    "#Extracting  the validation and test set\n",
    "validation_x = rem_x[0:int(rem_x.shape[0]*0.5),:]\n",
    "test_x = rem_x[int(rem_x.shape[0]*0.5)+1:rem_x.shape[0],:]\n",
    "validation_y = rem_y[0:int(rem_y.shape[0]*0.5)]\n",
    "test_y = rem_y[int(rem_y.shape[0]*0.5)+1:rem_y.shape[0]]\n",
    "validation_y = validation_y.reshape(1,len(validation_y))\n",
    "test_y = test_y.reshape(1,len(test_y))\n",
    "#print(validation_y.shape)\n",
    "#print(test_y.shape)\n",
    "#logistic_regression(training_x,training_y)"
   ]
  },
  {
   "cell_type": "code",
   "execution_count": 9,
   "metadata": {},
   "outputs": [],
   "source": [
    "def sigmoid(z):\n",
    "    sig = 1.0 / (1.0 + np.exp(-z))     # Define sigmoid function\n",
    "    #print(sig)\n",
    "    return sig\n",
    "    "
   ]
  },
  {
   "cell_type": "code",
   "execution_count": 23,
   "metadata": {},
   "outputs": [],
   "source": [
    "def logistic_regression(training_x, training_y,validation_x,validation_y, test_x, test_y,epochs):\n",
    "    w = np.random.randn(training_x.T.shape[0])\n",
    "    w = w.reshape(training_x.T.shape[0],1)\n",
    "    #print(w,\"\",w.shape)\n",
    "    \n",
    "    m_train = training_y.shape[1]\n",
    "    #np_ones_train = np.ones(m_train).reshape(1,m_train)\n",
    "    m_valid = validation_y.shape[1]\n",
    "    #np.ones_valid = np.ones(m_valid).reshape(1,m_valid)\n",
    "    #print(m)  \n",
    "    '''y_pred = sigmoid(np.array(np.dot(w.T,training_x.T),dtype = np.float64))\n",
    "    print(y_pred)\n",
    "    '''\n",
    "    #test = np.dot((y_pred - training_y),training_x))/m\n",
    "    #print(test)\n",
    "    #print(np.sum(np.dot(p,training_x)))\n",
    "    #print(np.dot(w.T,training_x.T).shape)\n",
    "    #training_costs=[]\n",
    "    #validation_costs=[]\n",
    "    training_cost_sum = 0\n",
    "    validation_cost_sum = 0\n",
    "    for i in range(epochs):\n",
    "        h_x = sigmoid(np.array(np.dot(w.T,training_x.T),dtype = np.float64))\n",
    "        #print(h_x)\n",
    "        #p1 = h_x - training_y\n",
    "        #p2 = 1-h_x\n",
    "        \n",
    "        cost_training = -(np.dot(h_x,training_y.T)+np.dot((1-h_x),(1-training_y).T)).item()/m_train\n",
    "        training_cost_sum += cost_training\n",
    "        w = w - ((0.01*np.dot(training_x.T,(h_x-training_y).T)*(1/m_train))) \n",
    "    \n",
    "        #print(p)\n",
    "        h_x_val = sigmoid(np.array(np.dot(w.T,validation_x.T),dtype=np.float64))\n",
    "        cost_validation = -(np.dot(h_x_val,validation_y.T)+np.dot((1-h_x_val),(1-validation_y).T)).item()/m_valid\n",
    "        validation_cost_sum += cost_validation\n",
    "        w = w - ((0.01*np.dot(validation_x.T,(h_x_val-validation_y).T)*(1/m_valid)))\n",
    "    training_cost_average = training_cost_sum / epochs\n",
    "    validation_cost_average = validation_cost_sum / epochs\n",
    "\n",
    "    y_pred = sigmoid(np.array(np.dot(w.T,test_x.T),dtype=np.float64))\n",
    "    #print(y_pred)\n",
    "    for j in range(y_pred.shape[0]):\n",
    "        for i in range(y_pred.shape[1]):\n",
    "            if y_pred[j,i] >= 0.5:\n",
    "                y_pred[j,i] = 1\n",
    "            else:\n",
    "                y_pred[j,i] = 0\n",
    "\n",
    "\n",
    "    print(y_pred.astype(int),\"\",y_pred.shape)\n",
    "    print(test_y,\"\",test_y.shape)\n",
    "    print(w.shape)  \n",
    "    TP,TN = 0,0\n",
    "    FP,FN = 0,0\n",
    "    y_pred = y_pred.astype(int)\n",
    "    for i in range(y_pred.shape[0]):\n",
    "        for j in range(y_pred.shape[1]):\n",
    "            if y_pred[i,j] == 1 and test_y[i,j] == 1:\n",
    "                TP = TP+1\n",
    "            elif y_pred[i,j] == 0 and test_y[i,j] == 0:\n",
    "                TN = TN+1\n",
    "            elif y_pred[i,j] == 0 and test_y[i,j] == 1:\n",
    "                FN = FN+1\n",
    "            elif y_pred[i,j] == 1 and test_y[i,j] == 0:\n",
    "                FP = FP+1\n",
    "    accuracy = ((TN+TP) / (TN+TP+FN+FP))*100\n",
    "    precision = TP / (TP+FP)\n",
    "    recall = TP / (TP+FN)\n",
    "    print(\"accuracy\" , accuracy)\n",
    "    print(\"precision\", precision)\n",
    "    print(\"recall\", recall)\n",
    "    return accuracy, training_cost_average, validation_cost_average\n",
    "\n"
   ]
  },
  {
   "cell_type": "code",
   "execution_count": 24,
   "metadata": {},
   "outputs": [
    {
     "name": "stdout",
     "output_type": "stream",
     "text": [
      "[[1 1 0 1 1 0 0 0 0 1 0 1 0 0 1 1 0 0 0 0 1 1 0 1 0 1 0 0 0 0 0 0 1 0 1 1\n",
      "  0 1 1 0 1 0 0 0 0 1 1 1 0 1 1 0 1 1 1 0]]  (1, 56)\n",
      "[[0 1 0 1 1 0 0 0 0 1 0 1 0 0 0 0 0 0 0 1 1 1 0 1 0 1 0 0 0 0 0 0 1 0 1 1\n",
      "  0 1 1 0 1 0 0 0 0 1 1 1 0 1 1 1 1 1 1 0]]  (1, 56)\n",
      "(31, 1)\n",
      "accuracy 91.07142857142857\n",
      "precision 0.8846153846153846\n",
      "recall 0.92\n",
      "[[0 1 0 1 1 0 0 0 0 1 0 1 0 0 0 0 0 0 0 1 1 1 0 1 1 1 0 0 0 0 0 0 1 0 1 1\n",
      "  0 1 1 0 0 0 0 0 0 1 1 1 0 1 1 1 1 1 1 0]]  (1, 56)\n",
      "[[0 1 0 1 1 0 0 0 0 1 0 1 0 0 0 0 0 0 0 1 1 1 0 1 0 1 0 0 0 0 0 0 1 0 1 1\n",
      "  0 1 1 0 1 0 0 0 0 1 1 1 0 1 1 1 1 1 1 0]]  (1, 56)\n",
      "(31, 1)\n",
      "accuracy 96.42857142857143\n",
      "precision 0.96\n",
      "recall 0.96\n",
      "[[0 1 0 1 1 0 0 0 0 1 0 1 0 0 0 0 0 0 0 1 1 1 0 1 1 1 0 0 0 0 0 0 1 0 1 1\n",
      "  0 1 1 0 0 0 0 0 0 1 1 1 0 1 1 1 1 1 1 0]]  (1, 56)\n",
      "[[0 1 0 1 1 0 0 0 0 1 0 1 0 0 0 0 0 0 0 1 1 1 0 1 0 1 0 0 0 0 0 0 1 0 1 1\n",
      "  0 1 1 0 1 0 0 0 0 1 1 1 0 1 1 1 1 1 1 0]]  (1, 56)\n",
      "(31, 1)\n",
      "accuracy 96.42857142857143\n",
      "precision 0.96\n",
      "recall 0.96\n",
      "[[0 1 0 1 1 0 0 0 0 1 0 1 0 0 0 0 0 0 0 1 0 1 1 1 0 1 0 0 0 0 0 0 1 0 1 1\n",
      "  0 1 1 0 1 0 0 0 0 1 1 1 0 1 1 1 1 1 1 0]]  (1, 56)\n",
      "[[0 1 0 1 1 0 0 0 0 1 0 1 0 0 0 0 0 0 0 1 1 1 0 1 0 1 0 0 0 0 0 0 1 0 1 1\n",
      "  0 1 1 0 1 0 0 0 0 1 1 1 0 1 1 1 1 1 1 0]]  (1, 56)\n",
      "(31, 1)\n",
      "accuracy 96.42857142857143\n",
      "precision 0.96\n",
      "recall 0.96\n",
      "[[0 1 0 1 1 0 0 0 0 1 0 1 0 0 0 0 0 0 0 1 1 1 0 1 0 1 0 0 0 0 0 0 1 0 1 1\n",
      "  0 1 1 0 1 0 0 0 0 1 1 1 0 1 1 1 1 1 1 0]]  (1, 56)\n",
      "[[0 1 0 1 1 0 0 0 0 1 0 1 0 0 0 0 0 0 0 1 1 1 0 1 0 1 0 0 0 0 0 0 1 0 1 1\n",
      "  0 1 1 0 1 0 0 0 0 1 1 1 0 1 1 1 1 1 1 0]]  (1, 56)\n",
      "(31, 1)\n",
      "accuracy 100.0\n",
      "precision 1.0\n",
      "recall 1.0\n",
      "[[0 1 0 1 1 0 0 0 0 1 0 1 0 0 0 0 0 0 0 1 1 1 0 1 0 1 0 0 0 0 0 0 1 0 1 1\n",
      "  0 1 1 0 0 0 0 0 0 1 1 1 0 1 1 1 1 1 1 0]]  (1, 56)\n",
      "[[0 1 0 1 1 0 0 0 0 1 0 1 0 0 0 0 0 0 0 1 1 1 0 1 0 1 0 0 0 0 0 0 1 0 1 1\n",
      "  0 1 1 0 1 0 0 0 0 1 1 1 0 1 1 1 1 1 1 0]]  (1, 56)\n",
      "(31, 1)\n",
      "accuracy 98.21428571428571\n",
      "precision 1.0\n",
      "recall 0.96\n",
      "[[0 1 0 1 1 0 0 0 0 1 0 1 0 0 0 0 0 0 0 1 1 1 0 1 1 1 0 0 0 0 0 0 1 0 1 1\n",
      "  0 1 1 0 1 0 0 0 0 1 1 1 0 1 1 1 1 1 1 0]]  (1, 56)\n",
      "[[0 1 0 1 1 0 0 0 0 1 0 1 0 0 0 0 0 0 0 1 1 1 0 1 0 1 0 0 0 0 0 0 1 0 1 1\n",
      "  0 1 1 0 1 0 0 0 0 1 1 1 0 1 1 1 1 1 1 0]]  (1, 56)\n",
      "(31, 1)\n",
      "accuracy 98.21428571428571\n",
      "precision 0.9615384615384616\n",
      "recall 1.0\n",
      "[91.07142857142857, 96.42857142857143, 96.42857142857143, 96.42857142857143, 100.0, 98.21428571428571, 98.21428571428571]\n",
      "[-0.8699282191464203, -0.9015174518877958, -0.9075313457297284, -0.9090996802369394, -0.9107570436597598, -0.9231478270281236, -0.9169179336976743]\n",
      "[-0.8568460676968707, -0.9042728147712161, -0.8879307189705384, -0.9328936706431686, -0.9275412763012663, -0.9375266466253074, -0.9388607273976737]\n"
     ]
    }
   ],
   "source": [
    "accuracy_list = []\n",
    "training_cost_list = []\n",
    "validation_cost_list = []\n",
    "epochs = np.array([500,1000,1500,2000,2500,3000,3500])\n",
    "for k in range(epochs.size):\n",
    "    values = logistic_regression(training_x,training_y,validation_x,validation_y,test_x,test_y,epochs[k])\n",
    "    accuracy_list.append(values[0])\n",
    "    training_cost_list.append(values[1])\n",
    "    validation_cost_list.append(values[2])\n",
    "print(accuracy_list)\n",
    "print(training_cost_list)\n",
    "print(validation_cost_list)"
   ]
  },
  {
   "cell_type": "code",
   "execution_count": 22,
   "metadata": {
    "scrolled": true
   },
   "outputs": [
    {
     "data": {
      "image/png": "[encoded data removed]",
      "text/plain": [
       "<Figure size 432x288 with 1 Axes>"
      ]
     },
     "metadata": {
      "needs_background": "light"
     },
     "output_type": "display_data"
    },
    {
     "data": {
      "image/png": "[encoded data removed]",
      "text/plain": [
       "<Figure size 432x288 with 1 Axes>"
      ]
     },
     "metadata": {
      "needs_background": "light"
     },
     "output_type": "display_data"
    }
   ],
   "source": [
    "plt.plot(epochs,accuracy_list)\n",
    "plt.xlabel('epochs')\n",
    "plt.ylabel('accuracy')\n",
    "plt.axis([0,4000,50,100])\n",
    "plt.show()\n",
    "plt.plot(epochs,training_cost_list,label=\"training_cost\",color='b')\n",
    "plt.plot(epochs,validation_cost_list,label=\"validation_cost\",color='r')\n",
    "plt.xlabel('epochs')\n",
    "plt.ylabel('training_cost,validation_cost')\n",
    "plt.legend()\n",
    "plt.show()"
   ]
  },
  {
   "cell_type": "code",
   "execution_count": null,
   "metadata": {},
   "outputs": [],
   "source": []
  },
  {
   "cell_type": "code",
   "execution_count": null,
   "metadata": {},
   "outputs": [],
   "source": []
  }
 ],
 "metadata": {
  "kernelspec": {
   "display_name": "Python 3",
   "language": "python",
   "name": "python3"
  },
  "language_info": {
   "codemirror_mode": {
    "name": "ipython",
    "version": 3
   },
   "file_extension": ".py",
   "mimetype": "text/x-python",
   "name": "python",
   "nbconvert_exporter": "python",
   "pygments_lexer": "ipython3",
   "version": "3.6.8"
  }
 },
 "nbformat": 4,
 "nbformat_minor": 2
}
